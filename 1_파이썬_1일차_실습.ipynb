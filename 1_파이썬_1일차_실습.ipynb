{
  "nbformat": 4,
  "nbformat_minor": 0,
  "metadata": {
    "colab": {
      "provenance": [],
      "authorship_tag": "ABX9TyO6+s/ZmUNrtvsIQM7kXqf8",
      "include_colab_link": true
    },
    "kernelspec": {
      "name": "python3",
      "display_name": "Python 3"
    },
    "language_info": {
      "name": "python"
    }
  },
  "cells": [
    {
      "cell_type": "markdown",
      "metadata": {
        "id": "view-in-github",
        "colab_type": "text"
      },
      "source": [
        "<a href=\"https://colab.research.google.com/github/cyself82/Projectmanager/blob/main/1_%ED%8C%8C%EC%9D%B4%EC%8D%AC_1%EC%9D%BC%EC%B0%A8_%EC%8B%A4%EC%8A%B5.ipynb\" target=\"_parent\"><img src=\"https://colab.research.google.com/assets/colab-badge.svg\" alt=\"Open In Colab\"/></a>"
      ]
    },
    {
      "cell_type": "markdown",
      "source": [
        "#파이썬 기초 프로그래밍 - 1일차 실습"
      ],
      "metadata": {
        "id": "Ica1pQwIeWHn"
      }
    },
    {
      "cell_type": "markdown",
      "source": [
        "## 1.코랩에서 파이썬 사용하기\n",
        "\n",
        "\n",
        "\n",
        "---\n"
      ],
      "metadata": {
        "id": "XCellb3se6LX"
      }
    },
    {
      "cell_type": "markdown",
      "source": [
        "### 1-1. 파이썬 실습 1일차"
      ],
      "metadata": {
        "id": "LmRdWCkcgcHo"
      }
    },
    {
      "cell_type": "markdown",
      "source": [
        "####시작"
      ],
      "metadata": {
        "id": "QgnrncaWgtm_"
      }
    },
    {
      "cell_type": "code",
      "source": [
        "import sys\n",
        "\n",
        "sys.version"
      ],
      "metadata": {
        "colab": {
          "base_uri": "https://localhost:8080/",
          "height": 35
        },
        "id": "2BSaa7nsfGx_",
        "outputId": "69b16fa9-1f17-4e40-b3f0-dbf5508af4b4"
      },
      "execution_count": null,
      "outputs": [
        {
          "output_type": "execute_result",
          "data": {
            "text/plain": [
              "'3.10.12 (main, Jun 11 2023, 05:26:28) [GCC 11.4.0]'"
            ],
            "application/vnd.google.colaboratory.intrinsic+json": {
              "type": "string"
            }
          },
          "metadata": {},
          "execution_count": 2
        }
      ]
    },
    {
      "cell_type": "markdown",
      "source": [
        "**간단 계산기 프로그램 작성하기**\n",
        "\n"
      ],
      "metadata": {
        "id": "zcm87rpofR2P"
      }
    },
    {
      "cell_type": "code",
      "source": [
        "a=100\n",
        "b=50\n",
        "print('덧셈 :', a+b)\n",
        "print('뺄셈 :', a-b)\n",
        "print('곱셈 :', a*b)\n",
        "print('나눗셈 :', a/b)"
      ],
      "metadata": {
        "colab": {
          "base_uri": "https://localhost:8080/"
        },
        "id": "kfIwIbptfasR",
        "outputId": "be69c046-94e6-4bc8-a45d-2dbc8e45a58f"
      },
      "execution_count": null,
      "outputs": [
        {
          "output_type": "stream",
          "name": "stdout",
          "text": [
            "덧셈 : 150\n",
            "뺄셈 : 50\n",
            "곱셈 : 5000\n",
            "나눗셈 : 2.0\n"
          ]
        }
      ]
    },
    {
      "cell_type": "code",
      "source": [],
      "metadata": {
        "id": "HYJqQGmpf-V5"
      },
      "execution_count": null,
      "outputs": []
    }
  ]
}